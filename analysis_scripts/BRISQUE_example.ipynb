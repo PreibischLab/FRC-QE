{
 "cells": [
  {
   "cell_type": "code",
   "execution_count": null,
   "metadata": {},
   "outputs": [],
   "source": [
    "import numpy as np\n",
    "import os\n",
    "from skimage import io\n",
    "import cv2\n",
    "import matplotlib.pyplot as plt\n",
    "\n",
    "\n",
    "#show example slices\n",
    "path = \"/Users/fpreuss/Desktop/BRISQUE/Fructose_org4_16bit.tif\"\n",
    "parent = os.path.dirname(path)\n",
    "base = os.path.basename(path)\n",
    "file = os.path.splitext(base)[0]\n",
    "print(file)\n",
    "\n",
    "img = io.imread(path)\n",
    "print(img.shape)\n",
    "\n",
    "number_slices = img.shape[0]\n",
    "print(number_slices)\n",
    "plt.imshow(img[120])\n",
    "\n"
   ]
  },
  {
   "cell_type": "code",
   "execution_count": null,
   "metadata": {},
   "outputs": [],
   "source": []
  },
  {
   "cell_type": "code",
   "execution_count": null,
   "metadata": {
    "scrolled": true
   },
   "outputs": [],
   "source": [
    "\n",
    "# Implementation 1\n",
    "# https://github.com/bukalapak/pybrisque\n",
    "import unittest\n",
    "from libsvm import svmutil\n",
    "import numpy as np\n",
    "import cv2\n",
    "\n",
    "from brisque import BRISQUE\n",
    "\n",
    "brisque = BRISQUE()\n",
    "\n",
    "\n",
    "\n",
    "brisque_list = []\n",
    "for z in range(number_slices):\n",
    "    #print(z)\n",
    "    is_all_zero = np.all((img[z] == 0))\n",
    "    if is_all_zero:\n",
    "        score = np.nan\n",
    "        print(\"All 0 slice detected.\\n\")\n",
    "    else:\n",
    "        score = np.round(brisque.get_score(img[z]),3)\n",
    "        print(score,\"\\n\")\n",
    "    brisque_list.append(score)\n",
    "    \n",
    "#print(brisque_list)\n",
    "plt.plot(brisque_list)\n",
    "file_name = \"BRISQUE_\" + file + \".csv\"\n",
    "file_path = os.path.join(parent,file_name)\n",
    "print(file_path)\n",
    "brisque_list.insert(0,\"quality\")\n",
    "np.savetxt(file_path,brisque_list,fmt='%s')"
   ]
  },
  {
   "cell_type": "code",
   "execution_count": null,
   "metadata": {},
   "outputs": [],
   "source": []
  },
  {
   "cell_type": "code",
   "execution_count": null,
   "metadata": {},
   "outputs": [],
   "source": []
  },
  {
   "cell_type": "code",
   "execution_count": null,
   "metadata": {},
   "outputs": [],
   "source": []
  }
 ],
 "metadata": {
  "kernelspec": {
   "display_name": "Python 3",
   "language": "python",
   "name": "python3"
  },
  "language_info": {
   "codemirror_mode": {
    "name": "ipython",
    "version": 3
   },
   "file_extension": ".py",
   "mimetype": "text/x-python",
   "name": "python",
   "nbconvert_exporter": "python",
   "pygments_lexer": "ipython3",
   "version": "3.7.3"
  }
 },
 "nbformat": 4,
 "nbformat_minor": 2
}
